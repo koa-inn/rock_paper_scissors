{
 "cells": [
  {
   "cell_type": "code",
   "execution_count": 19,
   "metadata": {},
   "outputs": [],
   "source": [
    "import random"
   ]
  },
  {
   "cell_type": "code",
   "execution_count": 14,
   "metadata": {},
   "outputs": [],
   "source": [
    "def response_corrector(input_response) -> str:\n",
    "    \"\"\" Function to correct user typed responses for clearly known responses to fit for function \"\"\"\n",
    "    if input_response in ['r','rock','Rock','R']:\n",
    "        print('You chose ROCK')\n",
    "        return 'r'\n",
    "    elif input_response in ['p','paper','P','Paper']:\n",
    "        print('You chose PAPER')\n",
    "        return 'p'\n",
    "    elif input_response in ['s','scissors','S','Scissors']:\n",
    "        print('You chose SCISSORS')\n",
    "        return 's'\n",
    "    else:\n",
    "        return input_response"
   ]
  },
  {
   "cell_type": "code",
   "execution_count": 15,
   "metadata": {},
   "outputs": [],
   "source": [
    "def player_input() -> str:\n",
    "    \"\"\" Prompts the user for a choice for a rock paper scissors game \"\"\"\n",
    "    response = input(\"Please select your play:\\nType 'r' for rock,\\nType 'p' for paper, or\\nType 's' for scissors\")\n",
    "    while True:\n",
    "        response = response_corrector(response)\n",
    "        if response in ['r','p','s']:\n",
    "            break\n",
    "        else:\n",
    "            response = input(\"Please please only enter the specified inputs. \\nType 'r' for rock,\\nType 'p' for paper, or\\nType 's' for scissors\")\n",
    "    return response\n"
   ]
  },
  {
   "cell_type": "code",
   "execution_count": null,
   "metadata": {},
   "outputs": [],
   "source": [
    "def computer_choice() -> str:\n",
    "    \"\"\" Generates a random choice for a rock paper scissors game \"\"\"\n",
    "    choice_num = random.randint(0,2)\n",
    "    if choice_num == 0:\n",
    "        choice = 'r'\n",
    "        print('Computer chose ROCK')\n",
    "    elif choice_num == 1:\n",
    "        choice = 'p'\n",
    "        print('Computer chose PAPER')\n",
    "    else:\n",
    "        choice = 's'\n",
    "        print('Computer chose SCISSORS')\n",
    "    return choice"
   ]
  },
  {
   "cell_type": "code",
   "execution_count": null,
   "metadata": {},
   "outputs": [],
   "source": [
    "def game_outcome(player1_choice: str, player2_choice: str) -> str:\n",
    "    \"\"\" Calculates the outcome of the rock paper scissors game given the choices of player1 and player2 \"\"\"\n",
    "    choice_combination: str = player1_choice + player2_choice\n",
    "    outcome_dict = {'p1_win':['sp','pr','rs'],\n",
    "                    'p2_win':['sr','ps','rp'],\n",
    "                    'tie':['ss','pp','rr']}\n",
    "    for key, values in outcome_dict.items():\n",
    "        if choice_combination in values:\n",
    "            return key"
   ]
  },
  {
   "cell_type": "code",
   "execution_count": null,
   "metadata": {},
   "outputs": [
    {
     "data": {
      "text/plain": [
       "'s'"
      ]
     },
     "execution_count": 15,
     "metadata": {},
     "output_type": "execute_result"
    }
   ],
   "source": [
    "def rps_v_computer():\n",
    "    record = {'wins':0,'ties':0,'losses':0}\n",
    "    play_again = 'y'\n",
    "    while play_again == 'y':\n",
    "        player_choice: str = player_input()\n",
    "        computer_choice: str = computer_choice()\n",
    "        game_outcome: str = game_outcome(player_choice,computer_choice)\n",
    "        if game_outcome == 'p1_win':\n",
    "            record['wins'] += 1\n",
    "        elif game_outcome == 'p2_win':\n",
    "            record['losses'] += 1\n",
    "        else:\n",
    "            record['ties'] += 1\n",
    "        \n",
    "\n",
    "h\n"
   ]
  },
  {
   "cell_type": "code",
   "execution_count": 9,
   "metadata": {},
   "outputs": [
    {
     "data": {
      "text/plain": [
       "'p2_win'"
      ]
     },
     "execution_count": 9,
     "metadata": {},
     "output_type": "execute_result"
    }
   ],
   "source": [
    "game_outcome('s','r')"
   ]
  },
  {
   "cell_type": "raw",
   "metadata": {
    "vscode": {
     "languageId": "raw"
    }
   },
   "source": [
    "ss\n",
    "sp\n",
    "sr\n",
    "ps\n",
    "pp\n",
    "pr\n",
    "rs\n",
    "rp\n",
    "rr"
   ]
  },
  {
   "cell_type": "code",
   "execution_count": 1,
   "metadata": {},
   "outputs": [
    {
     "data": {
      "text/plain": [
       "dict_items([('p1_win', ['sp', 'pr', 'rs']), ('p2_win', ['sr', 'ps', 'rp']), ('tie', ['ss', 'pp', 'rr'])])"
      ]
     },
     "execution_count": 1,
     "metadata": {},
     "output_type": "execute_result"
    }
   ],
   "source": [
    "outcome_dict = {'p1_win':['sp','pr','rs'],\n",
    "                'p2_win':['sr','ps','rp'],\n",
    "                'tie':['ss','pp','rr']}\n",
    "\n",
    "outcome_dict.items()"
   ]
  },
  {
   "cell_type": "code",
   "execution_count": null,
   "metadata": {},
   "outputs": [],
   "source": []
  }
 ],
 "metadata": {
  "kernelspec": {
   "display_name": ".venv",
   "language": "python",
   "name": "python3"
  },
  "language_info": {
   "codemirror_mode": {
    "name": "ipython",
    "version": 3
   },
   "file_extension": ".py",
   "mimetype": "text/x-python",
   "name": "python",
   "nbconvert_exporter": "python",
   "pygments_lexer": "ipython3",
   "version": "3.12.7"
  }
 },
 "nbformat": 4,
 "nbformat_minor": 2
}
